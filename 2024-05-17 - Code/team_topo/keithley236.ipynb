{
 "cells": [
  {
   "cell_type": "code",
   "execution_count": 2,
   "metadata": {},
   "outputs": [
    {
     "name": "stdout",
     "output_type": "stream",
     "text": [
      "('GPIB0::1::INSTR', 'GPIB0::16::INSTR')\n"
     ]
    }
   ],
   "source": [
    "import pyvisa as visa\n",
    "\n",
    "rm = visa.ResourceManager()\n",
    "print(rm.list_resources())\n"
   ]
  },
  {
   "cell_type": "code",
   "execution_count": 25,
   "metadata": {},
   "outputs": [],
   "source": [
    "keith = rm.list_resources()[1]"
   ]
  },
  {
   "cell_type": "code",
   "execution_count": 26,
   "metadata": {},
   "outputs": [
    {
     "name": "stdout",
     "output_type": "stream",
     "text": [
      "Measurement: NSDCV+0.0000E+00,B0000\n",
      "\n",
      "NSDCV+0.0000E+00,B0000\n",
      "\n"
     ]
    }
   ],
   "source": [
    "\n",
    "\n",
    "# Open a connection to the instrument\n",
    "rm = visa.ResourceManager()\n",
    "#keithley = rm.open_resource(\"USB0::0x05E6::0x2360::04314121::0::INSTR\")  # Replace this with your actual resource name\n",
    "keithley = rm.open_resource(keith)\n",
    "# Send commands to the instrument\n",
    "# keithley.write(\"*RST\")  # Reset the instrument to its default settings\n",
    "keithley.write(\":SOUR:FUNC CURR\")  # Set source function to voltage\n",
    "keithley.write(\":SOUR:CURR 0.02\")  # Set source voltage to 1V\n",
    "keithley.write(\":OUTP ON\")  # Enable the output\n",
    "\n",
    "# Read measurements\n",
    "measurement = keithley.query(\":READ?\")\n",
    "keithley.write(\":MEAS:CURR?\")\n",
    "current = keithley.read()\n",
    "\n",
    "print(\"Measurement:\", measurement)\n",
    "print(current)\n",
    "# Close the connection\n",
    "keithley.close()\n"
   ]
  },
  {
   "cell_type": "code",
   "execution_count": null,
   "metadata": {},
   "outputs": [],
   "source": []
  }
 ],
 "metadata": {
  "kernelspec": {
   "display_name": "Python 3",
   "language": "python",
   "name": "python3"
  },
  "language_info": {
   "codemirror_mode": {
    "name": "ipython",
    "version": 3
   },
   "file_extension": ".py",
   "mimetype": "text/x-python",
   "name": "python",
   "nbconvert_exporter": "python",
   "pygments_lexer": "ipython3",
   "version": "3.12.3"
  }
 },
 "nbformat": 4,
 "nbformat_minor": 2
}
