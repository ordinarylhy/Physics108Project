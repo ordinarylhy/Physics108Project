{
 "cells": [
  {
   "cell_type": "code",
   "execution_count": 1,
   "metadata": {},
   "outputs": [
    {
     "name": "stdout",
     "output_type": "stream",
     "text": [
      "Connected to: Stanford_Research_Systems SR830 (serial:s/n83923, firmware:ver1.07) in 0.29s\n",
      "lockin:\n",
      "\tparameter       value\n",
      "--------------------------------------------------------------------------------\n",
      "IDN              :\t{'vendor': 'Stanford_Research_Systems', 'model': 'SR830', ...\n",
      "P                :\tNone (deg)\n",
      "R                :\tNone (V)\n",
      "R_offset         :\tNone \n",
      "X                :\tNone (V)\n",
      "X_offset         :\tNone \n",
      "Y                :\tNone (V)\n",
      "Y_offset         :\tNone \n",
      "amplitude        :\tNone (V)\n",
      "aux_in1          :\tNone (V)\n",
      "aux_in2          :\tNone (V)\n",
      "aux_in3          :\tNone (V)\n",
      "aux_in4          :\tNone (V)\n",
      "aux_out1         :\tNone (V)\n",
      "aux_out2         :\tNone (V)\n",
      "aux_out3         :\tNone (V)\n",
      "aux_out4         :\tNone (V)\n",
      "buffer_SR        :\t1 (Hz)\n",
      "buffer_acq_mode  :\tNone \n",
      "buffer_npts      :\tNone \n",
      "buffer_trig_mode :\tNone \n",
      "ch1_databuffer   :\tNot available (V)\n",
      "ch1_datatrace    :\tNot available (V)\n",
      "ch1_display      :\tR \n",
      "ch1_ratio        :\tnone \n",
      "ch2_databuffer   :\tNot available (V)\n",
      "ch2_datatrace    :\tNot available (deg)\n",
      "ch2_display      :\tPhase \n",
      "ch2_ratio        :\tnone \n",
      "complex_voltage  :\tNone (V)\n",
      "ext_trigger      :\tNone \n",
      "filter_slope     :\tNone (dB/oct)\n",
      "frequency        :\tNone (Hz)\n",
      "harmonic         :\tNone \n",
      "input_config     :\ta \n",
      "input_coupling   :\tNone \n",
      "input_shield     :\tNone \n",
      "notch_filter     :\tNone \n",
      "output_interface :\tNone \n",
      "phase            :\tNone (deg)\n",
      "reference_source :\tNone \n",
      "reserve          :\tNone \n",
      "sensitivity      :\tNone (V)\n",
      "sweep_setpoints  :\tNone (s)\n",
      "sync_filter      :\tNone \n",
      "time_constant    :\tNone (s)\n",
      "timeout          :\t5 (s)\n"
     ]
    },
    {
     "name": "stderr",
     "output_type": "stream",
     "text": [
      "C:\\Users\\jmborit\\AppData\\Local\\Packages\\PythonSoftwareFoundation.Python.3.12_qbz5n2kfra8p0\\LocalCache\\local-packages\\Python312\\site-packages\\qcodes\\instrument\\instrument_base.py:143: QCoDeSDeprecationWarning: Parameter ch1_databuffer on instrument lockin does not correctly pass kwargs to its baseclass. A Parameter class must take `**kwargs` and forward them to its baseclass.\n",
      "  warnings.warn(\n",
      "C:\\Users\\jmborit\\AppData\\Local\\Packages\\PythonSoftwareFoundation.Python.3.12_qbz5n2kfra8p0\\LocalCache\\local-packages\\Python312\\site-packages\\qcodes\\instrument\\instrument_base.py:143: QCoDeSDeprecationWarning: Parameter ch2_databuffer on instrument lockin does not correctly pass kwargs to its baseclass. A Parameter class must take `**kwargs` and forward them to its baseclass.\n",
      "  warnings.warn(\n"
     ]
    }
   ],
   "source": [
    "### IMPORT PACKAGES\n",
    "from time import sleep\n",
    "import numpy as np\n",
    "from qcodes.dataset import do0d, load_or_create_experiment\n",
    "from qcodes.instrument import Instrument\n",
    "from qcodes.instrument_drivers.stanford_research import SR830\n",
    "from qcodes.validators import Numbers\n",
    "import time\n",
    "import matplotlib.pyplot as plt\n",
    "\n",
    "### ESTABLISH LOCK-IN CONNECTION \n",
    "lockin = SR830('lockin', 'GPIB0::8::INSTR') # init lock-in connection\n",
    "lockin.print_readable_snapshot() # check lock-in status"
   ]
  },
  {
   "cell_type": "code",
   "execution_count": 2,
   "metadata": {},
   "outputs": [],
   "source": [
    "### DETERMINE LOCK-IN PARAMS\n",
    "tau = 1 # time constant \n",
    "sense = 0.2 # sensivity \n",
    "V_ref = 3.5\n",
    "freq_ref = 100\n",
    "phi_ref = 0"
   ]
  },
  {
   "cell_type": "code",
   "execution_count": null,
   "metadata": {},
   "outputs": [],
   "source": [
    "0.4 / 0.2828"
   ]
  },
  {
   "cell_type": "code",
   "execution_count": null,
   "metadata": {},
   "outputs": [],
   "source": [
    "np.sqrt(2)"
   ]
  },
  {
   "cell_type": "code",
   "execution_count": 3,
   "metadata": {},
   "outputs": [],
   "source": [
    "### SET UP LOCK-IN\n",
    "lockin.time_constant(tau)\n",
    "lockin.sensitivity(sense)\n",
    "lockin.reference_source('internal') # set reference to internal \n",
    "lockin.set('amplitude', V_ref) \n",
    "lockin.set('frequency', freq_ref)\n",
    "lockin.set('phase', phi_ref) "
   ]
  },
  {
   "cell_type": "code",
   "execution_count": null,
   "metadata": {},
   "outputs": [],
   "source": [
    "### RUN A TEST: MEASURE V FROM SOURCEMETER\n",
    "Vs = []\n",
    "ts = []\n",
    "dt =0.1\n",
    "t = 0\n",
    "while t < 1:\n",
    "    V = lockin.R()\n",
    "    #print(V)\n",
    "    Vs.append(V)\n",
    "    time.sleep(dt)\n",
    "    ts.append(t)\n",
    "    t += dt\n",
    "plt.plot(ts, Vs)\n",
    "\n",
    "out = np.mean(Vs) * np.sqrt(2)\n",
    "print(out)"
   ]
  },
  {
   "cell_type": "code",
   "execution_count": 4,
   "metadata": {},
   "outputs": [],
   "source": [
    "lockin.close()"
   ]
  },
  {
   "cell_type": "code",
   "execution_count": null,
   "metadata": {},
   "outputs": [],
   "source": []
  }
 ],
 "metadata": {
  "kernelspec": {
   "display_name": "Python 3",
   "language": "python",
   "name": "python3"
  },
  "language_info": {
   "codemirror_mode": {
    "name": "ipython",
    "version": 3
   },
   "file_extension": ".py",
   "mimetype": "text/x-python",
   "name": "python",
   "nbconvert_exporter": "python",
   "pygments_lexer": "ipython3",
   "version": "3.12.3"
  }
 },
 "nbformat": 4,
 "nbformat_minor": 2
}
