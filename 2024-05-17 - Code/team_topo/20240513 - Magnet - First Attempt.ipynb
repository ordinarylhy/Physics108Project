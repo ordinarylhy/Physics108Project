{
 "cells": [
  {
   "cell_type": "code",
   "execution_count": 1,
   "metadata": {},
   "outputs": [
    {
     "data": {
      "text/plain": [
       "'\\nThis short notebook provides a quick introduction to \\nour magnet power supply, a Lakeshore Model 625. \\nHere, we connect to the magnet, introduce the relevant parameters\\nthat need to be set up, and run a series of simple tests. This Notebook\\nshould contain all the relevant commands we will need for our experiment. \\n'"
      ]
     },
     "execution_count": 1,
     "metadata": {},
     "output_type": "execute_result"
    }
   ],
   "source": [
    "######################################################\n",
    "### 2024-05-17: Magnet Supply - Notebook Tutorial \n",
    "######################################################\n",
    "\n",
    "'''\n",
    "This short notebook provides a quick introduction to \n",
    "our magnet power supply, a Lakeshore Model 625. \n",
    "Here, we connect to the magnet, introduce the relevant parameters\n",
    "that need to be set up, and run a series of simple tests. This Notebook\n",
    "should contain all the relevant commands we will need for our experiment. \n",
    "'''"
   ]
  },
  {
   "cell_type": "code",
   "execution_count": 2,
   "metadata": {},
   "outputs": [
    {
     "name": "stdout",
     "output_type": "stream",
     "text": [
      "('GPIB0::20::INSTR',)\n"
     ]
    }
   ],
   "source": [
    "#################\n",
    "### SCRIPT SET-UP\n",
    "#################\n",
    "\n",
    "### PACKAGE IMPORT\n",
    "import pyvisa as visa\n",
    "import qcodes as qc\n",
    "from qcodes_contrib_drivers.drivers.Lakeshore.Model_625 import Lakeshore625 # this package needs to be installed separately from qcodes\n",
    "\n",
    "### CONFIRM MAGNET CONNECTION \n",
    "rm = visa.ResourceManager()\n",
    "print(rm.list_resources())"
   ]
  },
  {
   "cell_type": "code",
   "execution_count": 3,
   "metadata": {},
   "outputs": [],
   "source": [
    "#################\n",
    "### MAGNET SUPPLY SETUP \n",
    "#################\n",
    "\n",
    "'''\n",
    "We are contolling a very powerful magnet supply. In this case,\n",
    "there are few parameters we need to control carefully to avoid quenching \n",
    "the superconducting magnet. Quenching means that ...\n",
    "\n",
    "1) Maximum B-field ramp rate - Determined by the magnet manufacturer. Heat is generated during the charnging and discharging of a magnet. If this heat can not be removed from the magnet fast enough, the superconducting wires can quench.  \n",
    "\n",
    "2) Maximum current ramp rate - Determined by magnet manufacturer. The rate of change in current is determined by V=L(dI/dt). The Model 625 can be charged up to 5 V.\n",
    "\n",
    "3) Maximum current - Determined by magnet manufacturer. Above a critical current, superconducting wires cease to be superconducting, causing the magnet to quench. \n",
    "'''\n",
    "\n",
    "### ENTER MANUFACTURER-SPECIFIED VALS HERE \n",
    "max_B_ramp_rate = 0.2\n",
    "max_curr_ramp_rate = 0.15\n",
    "max_curr = 3\n",
    "\n",
    "### SET UP MAGNET SUPPLY PARAMS (THESE ONES WE CHOOSE)\n",
    "# DEFINE PARAMS \n",
    "coil_const = 0.016 # also determined by magnet manufacturer \n",
    "B_ramp_rate = 0.15\n",
    "curr_ramp_rate = 0.15\n",
    "# CHECK THAT WE ARE NOT EXCEEDING MAGNET CONSTRAINTS \n",
    "if curr_ramp_rate > max_curr_ramp_rate:\n",
    "    raise ValueError('Maximum current ramp rate exceeded.') \n",
    "if B_ramp_rate > max_B_ramp_rate:\n",
    "    raise ValueError('Maximum B-field ramp rate exceeded.')\n",
    "\n"
   ]
  },
  {
   "cell_type": "code",
   "execution_count": 4,
   "metadata": {},
   "outputs": [
    {
     "name": "stdout",
     "output_type": "stream",
     "text": [
      "Connected to: LSCI 625 (serial:6251136, firmware:1.0/1.0) in 0.20s\n",
      "magnet_supply:\n",
      "\tparameter                value\n",
      "--------------------------------------------------------------------------------\n",
      "IDN                       :\t{'vendor': 'LSCI', 'model': '625', 'serial': '625...\n",
      "coil_constant             :\t0.016 ({'__class__': 'qcodes.parameters.parameter...\n",
      "coil_constant_unit        :\tT/A \n",
      "current                   :\t-0.0045 (A)\n",
      "current_limit             :\t60 (A)\n",
      "current_ramp_rate         :\t0.01 (A/s)\n",
      "current_rate_limit        :\t0.01 (A/s)\n",
      "field                     :\t-7.1e-05 (T)\n",
      "field_ramp_rate           :\t0.0096 (T/min)\n",
      "oer_quench                :\tno quench detected \n",
      "operational_error_status  :\t000000000 \n",
      "persistent_switch_heater  :\tdisabled \n",
      "quench_current_step_limit :\t1 (A/s)\n",
      "quench_detection          :\tenabled \n",
      "ramp_segments             :\tdisabled \n",
      "ramping_state             :\tnot ramping \n",
      "timeout                   :\t10 (s)\n",
      "voltage                   :\t-0.0944 (V)\n",
      "voltage_limit             :\t3 (V)\n"
     ]
    }
   ],
   "source": [
    "### INITIALISING CONNECTION\n",
    "# CONNECT TO MAGNET (CHANGE GPI ADDRESS BASED ON CELL ABOVE)\n",
    "magnet_supply = Lakeshore625(name = 'magnet_supply', address = 'GPIB0::20::INSTR', coil_constant = coil_const, field_ramp_rate = B_ramp_rate)\n",
    "# QUERY MAGNET POWER SUPPLY STATUS\n",
    "magnet_supply.print_readable_snapshot(update = True)"
   ]
  },
  {
   "cell_type": "code",
   "execution_count": 5,
   "metadata": {},
   "outputs": [],
   "source": [
    "magnet_supply.field_ramp_rate(0.1)"
   ]
  },
  {
   "cell_type": "code",
   "execution_count": 6,
   "metadata": {},
   "outputs": [],
   "source": [
    "# at every field ramp, if current more than max current, raise error "
   ]
  },
  {
   "cell_type": "code",
   "execution_count": 6,
   "metadata": {},
   "outputs": [
    {
     "data": {
      "text/plain": [
       "0.009600000000000001"
      ]
     },
     "execution_count": 6,
     "metadata": {},
     "output_type": "execute_result"
    }
   ],
   "source": [
    "magnet_supply.field_ramp_rate()"
   ]
  },
  {
   "cell_type": "code",
   "execution_count": null,
   "metadata": {},
   "outputs": [],
   "source": []
  }
 ],
 "metadata": {
  "kernelspec": {
   "display_name": "Python 3",
   "language": "python",
   "name": "python3"
  },
  "language_info": {
   "codemirror_mode": {
    "name": "ipython",
    "version": 3
   },
   "file_extension": ".py",
   "mimetype": "text/x-python",
   "name": "python",
   "nbconvert_exporter": "python",
   "pygments_lexer": "ipython3",
   "version": "3.12.3"
  }
 },
 "nbformat": 4,
 "nbformat_minor": 2
}
