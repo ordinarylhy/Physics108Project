{
 "cells": [
  {
   "cell_type": "code",
   "execution_count": 2,
   "metadata": {},
   "outputs": [],
   "source": [
    "### IMPORT PACKAGES\n",
    "from time import sleep\n",
    "import numpy as np\n",
    "from qcodes.dataset import do0d, load_or_create_experiment\n",
    "from qcodes.instrument import Instrument\n",
    "from qcodes.instrument_drivers.Keithley import Keithley2400\n",
    "from qcodes.validators import Numbers\n",
    "import time\n",
    "import matplotlib.pyplot as plt"
   ]
  },
  {
   "cell_type": "code",
   "execution_count": 3,
   "metadata": {},
   "outputs": [
    {
     "name": "stdout",
     "output_type": "stream",
     "text": [
      "Connected to: KEITHLEY INSTRUMENTS INC. 2410 (serial:4571616, firmware:D02 Jan 20 2021 10:18:49/B01  /L/N) in 0.23s\n",
      "source:\n",
      "\tparameter  value\n",
      "--------------------------------------------------------------------------------\n",
      "IDN         :\t{'vendor': 'KEITHLEY INSTRUMENTS INC.', 'model': '2410', 'seria...\n",
      "compliancei :\tNone \n",
      "compliancev :\tNone \n",
      "curr        :\tNone (A)\n",
      "mode        :\tNone \n",
      "nplci       :\tNone \n",
      "nplcv       :\tNone \n",
      "output      :\tNone \n",
      "rangei      :\tNone \n",
      "rangev      :\tNone \n",
      "resistance  :\tNone (Ohm)\n",
      "sense       :\tNone \n",
      "timeout     :\t5 (s)\n",
      "volt        :\tNone (V)\n"
     ]
    }
   ],
   "source": [
    "source = Keithley2400('source', 'GPIB0::2::INSTR') # init lock-in connection\n",
    "source.print_readable_snapshot() # check lock-in status"
   ]
  },
  {
   "cell_type": "code",
   "execution_count": null,
   "metadata": {},
   "outputs": [],
   "source": []
  }
 ],
 "metadata": {
  "kernelspec": {
   "display_name": "Python 3",
   "language": "python",
   "name": "python3"
  },
  "language_info": {
   "codemirror_mode": {
    "name": "ipython",
    "version": 3
   },
   "file_extension": ".py",
   "mimetype": "text/x-python",
   "name": "python",
   "nbconvert_exporter": "python",
   "pygments_lexer": "ipython3",
   "version": "3.12.3"
  }
 },
 "nbformat": 4,
 "nbformat_minor": 2
}
