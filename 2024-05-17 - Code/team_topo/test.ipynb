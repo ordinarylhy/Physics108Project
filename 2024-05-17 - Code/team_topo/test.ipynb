{
 "cells": [
  {
   "cell_type": "code",
   "execution_count": 1,
   "metadata": {},
   "outputs": [],
   "source": [
    "from time import sleep\n",
    "\n",
    "import numpy as np\n",
    "\n",
    "from qcodes.dataset import do0d, load_or_create_experiment\n",
    "from qcodes.instrument import Instrument\n",
    "from qcodes.instrument_drivers.stanford_research import SR830\n",
    "from qcodes.validators import Numbers"
   ]
  },
  {
   "cell_type": "code",
   "execution_count": 2,
   "metadata": {},
   "outputs": [
    {
     "name": "stdout",
     "output_type": "stream",
     "text": [
      "Connected to: Stanford_Research_Systems SR830 (serial:s/n83931, firmware:ver1.07) in 0.38s\n"
     ]
    },
    {
     "name": "stderr",
     "output_type": "stream",
     "text": [
      "C:\\Users\\jmborit\\AppData\\Local\\Packages\\PythonSoftwareFoundation.Python.3.12_qbz5n2kfra8p0\\LocalCache\\local-packages\\Python312\\site-packages\\qcodes\\instrument\\instrument_base.py:143: QCoDeSDeprecationWarning: Parameter ch1_databuffer on instrument lockin does not correctly pass kwargs to its baseclass. A Parameter class must take `**kwargs` and forward them to its baseclass.\n",
      "  warnings.warn(\n",
      "C:\\Users\\jmborit\\AppData\\Local\\Packages\\PythonSoftwareFoundation.Python.3.12_qbz5n2kfra8p0\\LocalCache\\local-packages\\Python312\\site-packages\\qcodes\\instrument\\instrument_base.py:143: QCoDeSDeprecationWarning: Parameter ch2_databuffer on instrument lockin does not correctly pass kwargs to its baseclass. A Parameter class must take `**kwargs` and forward them to its baseclass.\n",
      "  warnings.warn(\n"
     ]
    }
   ],
   "source": [
    "sr = SR830('lockin', 'GPIB0::1::INSTR')"
   ]
  },
  {
   "cell_type": "code",
   "execution_count": 3,
   "metadata": {},
   "outputs": [
    {
     "data": {
      "text/plain": [
       "SR830_notebook#some_sample#1@C:\\Users\\jmborit\\experiments.db\n",
       "------------------------------------------------------------"
      ]
     },
     "execution_count": 3,
     "metadata": {},
     "output_type": "execute_result"
    }
   ],
   "source": [
    "load_or_create_experiment(experiment_name='SR830_notebook')"
   ]
  },
  {
   "cell_type": "code",
   "execution_count": 4,
   "metadata": {},
   "outputs": [
    {
     "name": "stdout",
     "output_type": "stream",
     "text": [
      "lockin:\n",
      "\tparameter       value\n",
      "--------------------------------------------------------------------------------\n",
      "IDN              :\t{'vendor': 'Stanford_Research_Systems', 'model': 'SR830', ...\n",
      "P                :\tNone (deg)\n",
      "R                :\tNone (V)\n",
      "R_offset         :\tNone \n",
      "X                :\tNone (V)\n",
      "X_offset         :\tNone \n",
      "Y                :\tNone (V)\n",
      "Y_offset         :\tNone \n",
      "amplitude        :\tNone (V)\n",
      "aux_in1          :\tNone (V)\n",
      "aux_in2          :\tNone (V)\n",
      "aux_in3          :\tNone (V)\n",
      "aux_in4          :\tNone (V)\n",
      "aux_out1         :\tNone (V)\n",
      "aux_out2         :\tNone (V)\n",
      "aux_out3         :\tNone (V)\n",
      "aux_out4         :\tNone (V)\n",
      "buffer_SR        :\t1 (Hz)\n",
      "buffer_acq_mode  :\tNone \n",
      "buffer_npts      :\tNone \n",
      "buffer_trig_mode :\tNone \n",
      "ch1_databuffer   :\tNot available (V)\n",
      "ch1_datatrace    :\tNot available (V)\n",
      "ch1_display      :\tX \n",
      "ch1_ratio        :\tnone \n",
      "ch2_databuffer   :\tNot available (V)\n",
      "ch2_datatrace    :\tNot available (V)\n",
      "ch2_display      :\tY \n",
      "ch2_ratio        :\tnone \n",
      "complex_voltage  :\tNone (V)\n",
      "ext_trigger      :\tNone \n",
      "filter_slope     :\tNone (dB/oct)\n",
      "frequency        :\tNone (Hz)\n",
      "harmonic         :\tNone \n",
      "input_config     :\ta \n",
      "input_coupling   :\tNone \n",
      "input_shield     :\tNone \n",
      "notch_filter     :\tNone \n",
      "output_interface :\tNone \n",
      "phase            :\tNone (deg)\n",
      "reference_source :\tNone \n",
      "reserve          :\tNone \n",
      "sensitivity      :\tNone (V)\n",
      "sweep_setpoints  :\tNone (s)\n",
      "sync_filter      :\tNone \n",
      "time_constant    :\tNone (s)\n",
      "timeout          :\t5 (s)\n"
     ]
    }
   ],
   "source": [
    "sr.print_readable_snapshot()"
   ]
  },
  {
   "cell_type": "code",
   "execution_count": 5,
   "metadata": {},
   "outputs": [
    {
     "data": {
      "text/plain": [
       "(-1.90736e-06+9.53682e-07j)"
      ]
     },
     "execution_count": 5,
     "metadata": {},
     "output_type": "execute_result"
    }
   ],
   "source": [
    "sr.complex_voltage()"
   ]
  },
  {
   "cell_type": "code",
   "execution_count": 6,
   "metadata": {},
   "outputs": [],
   "source": [
    "sr.autorange(max_changes=2)"
   ]
  },
  {
   "cell_type": "code",
   "execution_count": 7,
   "metadata": {},
   "outputs": [],
   "source": [
    "sr.ch1_display('X')\n",
    "sr.ch1_ratio('none')\n",
    "sr.buffer_SR(512)  # Sample rate (Hz)\n",
    "sr.buffer_trig_mode.set('OFF')"
   ]
  },
  {
   "cell_type": "code",
   "execution_count": 8,
   "metadata": {},
   "outputs": [],
   "source": [
    "sr.buffer_reset()\n",
    "sr.buffer_start() # Start filling the buffers with 512 pts/s\n",
    "sleep(1)\n",
    "sr.buffer_pause()  # Stop filling buffers"
   ]
  },
  {
   "cell_type": "code",
   "execution_count": 9,
   "metadata": {},
   "outputs": [
    {
     "name": "stdout",
     "output_type": "stream",
     "text": [
      "Starting experimental run with id: 1. Using 'qcodes.dataset.do0d'\n"
     ]
    },
    {
     "data": {
      "text/plain": [
       "(results #1@C:\\Users\\jmborit\\experiments.db\n",
       " ------------------------------------------\n",
       " lockin_sweep_setpoints - array\n",
       " lockin_ch1_datatrace - array,\n",
       " (<Axes: title={'center': 'Run #1, Experiment SR830_notebook (some_sample)'}, xlabel='Time (ms)', ylabel='X (μV)'>,),\n",
       " (None,))"
      ]
     },
     "execution_count": 9,
     "metadata": {},
     "output_type": "execute_result"
    },
    {
     "data": {
      "image/png": "[encoded data removed]",
      "text/plain": [
       "<Figure size 640x480 with 1 Axes>"
      ]
     },
     "metadata": {},
     "output_type": "display_data"
    }
   ],
   "source": [
    "do0d(sr.ch1_datatrace, do_plot=True)"
   ]
  },
  {
   "cell_type": "code",
   "execution_count": 10,
   "metadata": {},
   "outputs": [
    {
     "data": {
      "text/plain": [
       "(5.9605e-07-4.76841e-07j)"
      ]
     },
     "execution_count": 10,
     "metadata": {},
     "output_type": "execute_result"
    }
   ],
   "source": [
    "sr.complex_voltage()"
   ]
  },
  {
   "cell_type": "code",
   "execution_count": 12,
   "metadata": {},
   "outputs": [
    {
     "data": {
      "text/plain": [
       "8.34469e-07"
      ]
     },
     "execution_count": 12,
     "metadata": {},
     "output_type": "execute_result"
    }
   ],
   "source": [
    "sr.R()"
   ]
  },
  {
   "cell_type": "code",
   "execution_count": 13,
   "metadata": {},
   "outputs": [
    {
     "ename": "NotImplementedError",
     "evalue": "no set cmd found in Parameter R",
     "output_type": "error",
     "traceback": [
      "\u001b[1;31m---------------------------------------------------------------------------\u001b[0m",
      "\u001b[1;31mNotImplementedError\u001b[0m                       Traceback (most recent call last)",
      "Cell \u001b[1;32mIn[13], line 1\u001b[0m\n\u001b[1;32m----> 1\u001b[0m \u001b[43msr\u001b[49m\u001b[38;5;241;43m.\u001b[39;49m\u001b[43mR\u001b[49m\u001b[43m(\u001b[49m\u001b[38;5;241;43m3e-6\u001b[39;49m\u001b[43m)\u001b[49m\n",
      "File \u001b[1;32m~\\AppData\\Local\\Packages\\PythonSoftwareFoundation.Python.3.12_qbz5n2kfra8p0\\LocalCache\\local-packages\\Python312\\site-packages\\qcodes\\parameters\\parameter_base.py:470\u001b[0m, in \u001b[0;36mParameterBase.__call__\u001b[1;34m(self, *args, **kwargs)\u001b[0m\n\u001b[0;32m    468\u001b[0m     \u001b[38;5;28;01mreturn\u001b[39;00m \u001b[38;5;28;01mNone\u001b[39;00m\n\u001b[0;32m    469\u001b[0m \u001b[38;5;28;01melse\u001b[39;00m:\n\u001b[1;32m--> 470\u001b[0m     \u001b[38;5;28;01mraise\u001b[39;00m \u001b[38;5;167;01mNotImplementedError\u001b[39;00m(\u001b[38;5;124mf\u001b[39m\u001b[38;5;124m\"\u001b[39m\u001b[38;5;124mno set cmd found in Parameter \u001b[39m\u001b[38;5;132;01m{\u001b[39;00m\u001b[38;5;28mself\u001b[39m\u001b[38;5;241m.\u001b[39mname\u001b[38;5;132;01m}\u001b[39;00m\u001b[38;5;124m\"\u001b[39m)\n",
      "\u001b[1;31mNotImplementedError\u001b[0m: no set cmd found in Parameter R"
     ]
    }
   ],
   "source": [
    "sr.R(3e-6)"
   ]
  },
  {
   "cell_type": "code",
   "execution_count": 19,
   "metadata": {},
   "outputs": [],
   "source": [
    "sr.set('amplitude', 2.5)"
   ]
  },
  {
   "cell_type": "code",
   "execution_count": 26,
   "metadata": {},
   "outputs": [],
   "source": [
    "sr.set('frequency', 3)"
   ]
  },
  {
   "cell_type": "code",
   "execution_count": 32,
   "metadata": {},
   "outputs": [
    {
     "data": {
      "text/plain": [
       "0.0"
      ]
     },
     "execution_count": 32,
     "metadata": {},
     "output_type": "execute_result"
    }
   ],
   "source": [
    "sr.R()"
   ]
  },
  {
   "cell_type": "code",
   "execution_count": 33,
   "metadata": {},
   "outputs": [],
   "source": [
    "sr.device_clear()"
   ]
  },
  {
   "cell_type": "code",
   "execution_count": 34,
   "metadata": {},
   "outputs": [],
   "source": [
    "sr.reset()"
   ]
  },
  {
   "cell_type": "code",
   "execution_count": 35,
   "metadata": {},
   "outputs": [
    {
     "data": {
      "text/plain": [
       "0.000122071"
      ]
     },
     "execution_count": 35,
     "metadata": {},
     "output_type": "execute_result"
    }
   ],
   "source": [
    "sr.R()"
   ]
  },
  {
   "cell_type": "code",
   "execution_count": 36,
   "metadata": {},
   "outputs": [
    {
     "data": {
      "text/plain": [
       "0.000244142"
      ]
     },
     "execution_count": 36,
     "metadata": {},
     "output_type": "execute_result"
    }
   ],
   "source": [
    "sr.R()"
   ]
  },
  {
   "cell_type": "code",
   "execution_count": 37,
   "metadata": {},
   "outputs": [
    {
     "data": {
      "text/plain": [
       "0.00158692"
      ]
     },
     "execution_count": 37,
     "metadata": {},
     "output_type": "execute_result"
    }
   ],
   "source": [
    "sr.reset()\n",
    "sr.R()"
   ]
  },
  {
   "cell_type": "code",
   "execution_count": null,
   "metadata": {},
   "outputs": [],
   "source": []
  }
 ],
 "metadata": {
  "kernelspec": {
   "display_name": "Python 3",
   "language": "python",
   "name": "python3"
  },
  "language_info": {
   "codemirror_mode": {
    "name": "ipython",
    "version": 3
   },
   "file_extension": ".py",
   "mimetype": "text/x-python",
   "name": "python",
   "nbconvert_exporter": "python",
   "pygments_lexer": "ipython3",
   "version": "3.12.3"
  }
 },
 "nbformat": 4,
 "nbformat_minor": 2
}
