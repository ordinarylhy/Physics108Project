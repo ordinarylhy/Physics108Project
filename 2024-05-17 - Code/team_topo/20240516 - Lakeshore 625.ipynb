{
 "cells": [
  {
   "cell_type": "code",
   "execution_count": 1,
   "metadata": {},
   "outputs": [],
   "source": [
    "import qcodes as qc"
   ]
  },
  {
   "cell_type": "code",
   "execution_count": 2,
   "metadata": {},
   "outputs": [],
   "source": [
    "from qcodes_contrib_drivers.drivers.Lakeshore.Model_625 import Lakeshore625"
   ]
  },
  {
   "cell_type": "code",
   "execution_count": 4,
   "metadata": {},
   "outputs": [
    {
     "name": "stdout",
     "output_type": "stream",
     "text": [
      "Connected to: LSCI 625 (serial:6251136, firmware:1.0/1.0) in 0.33s\n"
     ]
    }
   ],
   "source": [
    "magnet = Lakeshore625(name = 'magnet', address = 'GPIB0::20::INSTR', coil_constant = 0.0166614, field_ramp_rate = 0.15)"
   ]
  },
  {
   "cell_type": "code",
   "execution_count": 5,
   "metadata": {},
   "outputs": [
    {
     "name": "stdout",
     "output_type": "stream",
     "text": [
      "magnet:\n",
      "\tparameter                value\n",
      "--------------------------------------------------------------------------------\n",
      "IDN                       :\t{'vendor': 'LSCI', 'model': '625', 'serial': '625...\n",
      "coil_constant             :\t0.01666 ({'__class__': 'qcodes.parameters.paramet...\n",
      "coil_constant_unit        :\tT/A \n",
      "current                   :\t-0.0045 (A)\n",
      "current_limit             :\t60 (A)\n",
      "current_ramp_rate         :\t0.01 (A/s)\n",
      "current_rate_limit        :\t0.01 (A/s)\n",
      "field                     :\t-7.5e-05 (T)\n",
      "field_ramp_rate           :\t0.009996 (T/min)\n",
      "oer_quench                :\tno quench detected \n",
      "operational_error_status  :\t000000000 \n",
      "persistent_switch_heater  :\tdisabled \n",
      "quench_current_step_limit :\t1 (A/s)\n",
      "quench_detection          :\tenabled \n",
      "ramp_segments             :\tdisabled \n",
      "ramping_state             :\tnot ramping \n",
      "timeout                   :\t10 (s)\n",
      "voltage                   :\t-0.1017 (V)\n",
      "voltage_limit             :\t3 (V)\n"
     ]
    }
   ],
   "source": [
    "magnet.print_readable_snapshot(update=True)"
   ]
  },
  {
   "cell_type": "code",
   "execution_count": 6,
   "metadata": {},
   "outputs": [
    {
     "name": "stdout",
     "output_type": "stream",
     "text": [
      "coil constant = 0.01666 T/A\n",
      "current limit = 60.0 A\n",
      "current ramp rate limit = 0.01 A/s\n"
     ]
    }
   ],
   "source": [
    "coil_const = magnet.coil_constant()\n",
    "current_limit = magnet.current_limit()\n",
    "current_rate_limit = magnet.current_rate_limit()\n",
    "print(\"coil constant = {} T/A\".format(coil_const))\n",
    "print(\"current limit = {} A\".format(current_limit))\n",
    "print(\"current ramp rate limit = {} A/s\".format(current_rate_limit))"
   ]
  },
  {
   "cell_type": "code",
   "execution_count": null,
   "metadata": {},
   "outputs": [],
   "source": [
    "# Let see if we can set and get the field in Tesla\n",
    "target_current = 0.1  # [A]  The current we want to set\n",
    "target_field = coil_const * target_current  # [T]\n",
    "print(\"Target field is {} T\".format(target_field))\n",
    "magnet.field(target_field)\n",
    "\n",
    "field = magnet.field()  # This gives us the measured field\n",
    "print(\"Measured field is {} T\".format(field))\n",
    "# The current should be\n",
    "current = field / coil_const\n",
    "print(\"Measured current is = {} A\".format(current))\n",
    "# We have verified with manual inspection that the current has indeed ben reached"
   ]
  }
 ],
 "metadata": {
  "kernelspec": {
   "display_name": "Python 3",
   "language": "python",
   "name": "python3"
  },
  "language_info": {
   "codemirror_mode": {
    "name": "ipython",
    "version": 3
   },
   "file_extension": ".py",
   "mimetype": "text/x-python",
   "name": "python",
   "nbconvert_exporter": "python",
   "pygments_lexer": "ipython3",
   "version": "3.12.3"
  }
 },
 "nbformat": 4,
 "nbformat_minor": 2
}
