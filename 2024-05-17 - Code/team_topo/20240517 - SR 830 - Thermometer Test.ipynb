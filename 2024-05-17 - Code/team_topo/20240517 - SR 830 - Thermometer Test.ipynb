{
 "cells": [
  {
   "cell_type": "code",
   "execution_count": 19,
   "metadata": {},
   "outputs": [
    {
     "data": {
      "text/plain": [
       "('GPIB0::1::INSTR', 'GPIB0::2::INSTR')"
      ]
     },
     "execution_count": 19,
     "metadata": {},
     "output_type": "execute_result"
    }
   ],
   "source": [
    "### IMPORT PACKAGES\n",
    "from time import sleep\n",
    "import numpy as np\n",
    "from qcodes.dataset import do0d, load_or_create_experiment\n",
    "from qcodes.instrument import Instrument\n",
    "from qcodes import VisaInstrument\n",
    "from qcodes.instrument_drivers.stanford_research import SR830\n",
    "from qcodes.validators import Numbers\n",
    "import time\n",
    "import matplotlib.pyplot as plt\n",
    "import pyvisa as visa\n",
    "\n",
    "### SEE CONNECTED DEVICES\n",
    "visa.ResourceManager().list_resources()"
   ]
  },
  {
   "cell_type": "code",
   "execution_count": 2,
   "metadata": {},
   "outputs": [
    {
     "name": "stdout",
     "output_type": "stream",
     "text": [
      "Connected to: Stanford_Research_Systems SR830 (serial:s/n83931, firmware:ver1.07) in 0.09s\n",
      "lockin:\n",
      "\tparameter       value\n",
      "--------------------------------------------------------------------------------\n",
      "IDN              :\t{'vendor': 'Stanford_Research_Systems', 'model': 'SR830', ...\n",
      "P                :\tNone (deg)\n",
      "R                :\tNone (V)\n",
      "R_offset         :\tNone \n",
      "X                :\tNone (V)\n",
      "X_offset         :\tNone \n",
      "Y                :\tNone (V)\n",
      "Y_offset         :\tNone \n",
      "amplitude        :\tNone (V)\n",
      "aux_in1          :\tNone (V)\n",
      "aux_in2          :\tNone (V)\n",
      "aux_in3          :\tNone (V)\n",
      "aux_in4          :\tNone (V)\n",
      "aux_out1         :\tNone (V)\n",
      "aux_out2         :\tNone (V)\n",
      "aux_out3         :\tNone (V)\n",
      "aux_out4         :\tNone (V)\n",
      "buffer_SR        :\t1 (Hz)\n",
      "buffer_acq_mode  :\tNone \n",
      "buffer_npts      :\tNone \n",
      "buffer_trig_mode :\tNone \n",
      "ch1_databuffer   :\tNot available (V)\n",
      "ch1_datatrace    :\tNot available (V)\n",
      "ch1_display      :\tX \n",
      "ch1_ratio        :\tnone \n",
      "ch2_databuffer   :\tNot available (V)\n",
      "ch2_datatrace    :\tNot available (V)\n",
      "ch2_display      :\tY \n",
      "ch2_ratio        :\tnone \n",
      "complex_voltage  :\tNone (V)\n",
      "ext_trigger      :\tNone \n",
      "filter_slope     :\tNone (dB/oct)\n",
      "frequency        :\tNone (Hz)\n",
      "harmonic         :\tNone \n",
      "input_config     :\ta-b \n",
      "input_coupling   :\tNone \n",
      "input_shield     :\tNone \n",
      "notch_filter     :\tNone \n",
      "output_interface :\tNone \n",
      "phase            :\tNone (deg)\n",
      "reference_source :\tNone \n",
      "reserve          :\tNone \n",
      "sensitivity      :\tNone (V)\n",
      "sweep_setpoints  :\tNone (s)\n",
      "sync_filter      :\tNone \n",
      "time_constant    :\tNone (s)\n",
      "timeout          :\t5 (s)\n"
     ]
    },
    {
     "name": "stderr",
     "output_type": "stream",
     "text": [
      "C:\\Users\\jmborit\\AppData\\Local\\Packages\\PythonSoftwareFoundation.Python.3.12_qbz5n2kfra8p0\\LocalCache\\local-packages\\Python312\\site-packages\\qcodes\\instrument\\instrument_base.py:143: QCoDeSDeprecationWarning: Parameter ch1_databuffer on instrument lockin does not correctly pass kwargs to its baseclass. A Parameter class must take `**kwargs` and forward them to its baseclass.\n",
      "  warnings.warn(\n",
      "C:\\Users\\jmborit\\AppData\\Local\\Packages\\PythonSoftwareFoundation.Python.3.12_qbz5n2kfra8p0\\LocalCache\\local-packages\\Python312\\site-packages\\qcodes\\instrument\\instrument_base.py:143: QCoDeSDeprecationWarning: Parameter ch2_databuffer on instrument lockin does not correctly pass kwargs to its baseclass. A Parameter class must take `**kwargs` and forward them to its baseclass.\n",
      "  warnings.warn(\n"
     ]
    }
   ],
   "source": [
    "### ESTABLISH LOCK-IN CONNECTION \n",
    "lockin = SR830('lockin', 'GPIB0::1::INSTR') # init lock-in connection\n",
    "lockin.print_readable_snapshot() # check lock-in status"
   ]
  },
  {
   "cell_type": "code",
   "execution_count": 9,
   "metadata": {},
   "outputs": [
    {
     "data": {
      "text/plain": [
       "0.00245668"
      ]
     },
     "execution_count": 9,
     "metadata": {},
     "output_type": "execute_result"
    }
   ],
   "source": [
    "lockin.R()"
   ]
  },
  {
   "cell_type": "code",
   "execution_count": 12,
   "metadata": {},
   "outputs": [],
   "source": [
    "def measure_temp():\n",
    "    return lockin.R() / (3 / 103e3)"
   ]
  },
  {
   "cell_type": "code",
   "execution_count": 13,
   "metadata": {},
   "outputs": [
    {
     "data": {
      "text/plain": [
       "84.60797666666666"
      ]
     },
     "execution_count": 13,
     "metadata": {},
     "output_type": "execute_result"
    }
   ],
   "source": [
    "measure_temp()"
   ]
  },
  {
   "cell_type": "code",
   "execution_count": 18,
   "metadata": {},
   "outputs": [
    {
     "ename": "ValueError",
     "evalue": "could not convert string to float: 'NDCI+0.0000E+0,V+1.0000E+0,W+3.0000E-3,L+1.0000E+0\\r'",
     "output_type": "error",
     "traceback": [
      "\u001b[1;31m---------------------------------------------------------------------------\u001b[0m",
      "\u001b[1;31mValueError\u001b[0m                                Traceback (most recent call last)",
      "Cell \u001b[1;32mIn[18], line 3\u001b[0m\n\u001b[0;32m      1\u001b[0m keithley\u001b[38;5;241m.\u001b[39mset_current(\u001b[38;5;241m1\u001b[39m)\n\u001b[0;32m      2\u001b[0m keithley\u001b[38;5;241m.\u001b[39moutput_on()\n\u001b[1;32m----> 3\u001b[0m \u001b[43mkeithley\u001b[49m\u001b[38;5;241;43m.\u001b[39;49m\u001b[43mget_current\u001b[49m\u001b[43m(\u001b[49m\u001b[43m)\u001b[49m\n",
      "Cell \u001b[1;32mIn[2], line 22\u001b[0m, in \u001b[0;36mKeithley220.get_current\u001b[1;34m(self)\u001b[0m\n\u001b[0;32m     18\u001b[0m \u001b[38;5;28;01mdef\u001b[39;00m \u001b[38;5;21mget_current\u001b[39m(\u001b[38;5;28mself\u001b[39m):\n\u001b[0;32m     19\u001b[0m \u001b[38;5;250m    \u001b[39m\u001b[38;5;124;03m\"\"\"\u001b[39;00m\n\u001b[0;32m     20\u001b[0m \u001b[38;5;124;03m    Query the current output.\u001b[39;00m\n\u001b[0;32m     21\u001b[0m \u001b[38;5;124;03m    \"\"\"\u001b[39;00m\n\u001b[1;32m---> 22\u001b[0m     \u001b[38;5;28;01mreturn\u001b[39;00m \u001b[38;5;28;43mfloat\u001b[39;49m\u001b[43m(\u001b[49m\u001b[38;5;28;43mself\u001b[39;49m\u001b[38;5;241;43m.\u001b[39;49m\u001b[43mask\u001b[49m\u001b[43m(\u001b[49m\u001b[38;5;124;43m\"\u001b[39;49m\u001b[38;5;124;43mI?\u001b[39;49m\u001b[38;5;124;43m\"\u001b[39;49m\u001b[43m)\u001b[49m\u001b[43m)\u001b[49m\n",
      "\u001b[1;31mValueError\u001b[0m: could not convert string to float: 'NDCI+0.0000E+0,V+1.0000E+0,W+3.0000E-3,L+1.0000E+0\\r'"
     ]
    }
   ],
   "source": [
    "keithley.set_current(1)\n",
    "keithley.output_on()\n",
    "keithley.get_current()\n"
   ]
  },
  {
   "cell_type": "code",
   "execution_count": null,
   "metadata": {},
   "outputs": [],
   "source": []
  }
 ],
 "metadata": {
  "kernelspec": {
   "display_name": "Python 3",
   "language": "python",
   "name": "python3"
  },
  "language_info": {
   "codemirror_mode": {
    "name": "ipython",
    "version": 3
   },
   "file_extension": ".py",
   "mimetype": "text/x-python",
   "name": "python",
   "nbconvert_exporter": "python",
   "pygments_lexer": "ipython3",
   "version": "3.12.3"
  }
 },
 "nbformat": 4,
 "nbformat_minor": 2
}
