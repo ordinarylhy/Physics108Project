{
 "cells": [
  {
   "cell_type": "code",
   "execution_count": 3,
   "metadata": {},
   "outputs": [],
   "source": [
    "field_constant = 0.102 #tesla/amp\n",
    "max_charge_rate = 0.032 #tesla / sec\n",
    "max_field = 5 # tesla"
   ]
  },
  {
   "cell_type": "markdown",
   "metadata": {},
   "source": [
    "The relationship between the magnetic field B and the current I can be expressed as:\n",
    "\n",
    "B=k⋅I\n",
    "\n",
    "Taking the derivative of both sides with respect to time t:\n",
    "\n",
    "dB / dt=k⋅ dI / dt\n",
    "Given:\n",
    "\n",
    "k=0.102T/A\n",
    "dB/dt=0.032T/s\n",
    "\n",
    "dI/dt=  dB/dt / k ​= 0.032 / 0.102 A/s ≈0.3137A/s"
   ]
  },
  {
   "cell_type": "code",
   "execution_count": 2,
   "metadata": {},
   "outputs": [
    {
     "data": {
      "text/plain": [
       "0.3137254901960785"
      ]
     },
     "execution_count": 2,
     "metadata": {},
     "output_type": "execute_result"
    }
   ],
   "source": [
    "0.032 / 0.102 # A/s"
   ]
  },
  {
   "cell_type": "code",
   "execution_count": 5,
   "metadata": {},
   "outputs": [
    {
     "data": {
      "text/plain": [
       "1.0134149581949954e-06"
      ]
     },
     "execution_count": 5,
     "metadata": {},
     "output_type": "execute_result"
    }
   ],
   "source": [
    "import numpy as np\n",
    "diameter = 0.00635 # diameter radius of rod\n",
    "radius = diameter / 2\n",
    "d_phi_dt = max_charge_rate * np.pi * radius**2\n",
    "emf = d_phi_dt\n",
    "emf"
   ]
  },
  {
   "cell_type": "code",
   "execution_count": 12,
   "metadata": {},
   "outputs": [
    {
     "data": {
      "text/plain": [
       "3.579098067287044"
      ]
     },
     "execution_count": 12,
     "metadata": {},
     "output_type": "execute_result"
    }
   ],
   "source": [
    "r_per_meter"
   ]
  },
  {
   "cell_type": "code",
   "execution_count": 11,
   "metadata": {},
   "outputs": [
    {
     "data": {
      "text/plain": [
       "1.4193519999999999e-05"
      ]
     },
     "execution_count": 11,
     "metadata": {},
     "output_type": "execute_result"
    }
   ],
   "source": [
    "r_per_meter = (0.2 / 2.2) / 0.0254 # for copper wire, ohm per meter\n",
    " \n",
    "\n",
    "resistance = 2 * np.pi * radius * r_per_meter\n",
    "I = emf / resistance\n",
    "I"
   ]
  }
 ],
 "metadata": {
  "kernelspec": {
   "display_name": "Python 3.9.6 64-bit",
   "language": "python",
   "name": "python3"
  },
  "language_info": {
   "codemirror_mode": {
    "name": "ipython",
    "version": 3
   },
   "file_extension": ".py",
   "mimetype": "text/x-python",
   "name": "python",
   "nbconvert_exporter": "python",
   "pygments_lexer": "ipython3",
   "version": "3.10.9"
  },
  "orig_nbformat": 4,
  "vscode": {
   "interpreter": {
    "hash": "31f2aee4e71d21fbe5cf8b01ff0e069b9275f58929596ceb00d14d90e3e16cd6"
   }
  }
 },
 "nbformat": 4,
 "nbformat_minor": 2
}
